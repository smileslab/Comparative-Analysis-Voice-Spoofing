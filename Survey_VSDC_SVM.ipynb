{
 "cells": [
  {
   "cell_type": "code",
   "execution_count": 539,
   "id": "d6c3665b",
   "metadata": {},
   "outputs": [],
   "source": [
    "import re\n",
    "import numpy as np\n",
    "import pandas as pd\n",
    "import time\n",
    "import os\n",
    "from collections import deque\n",
    "from sklearn.model_selection import train_test_split\n",
    "from sklearn.svm import SVC\n",
    "from sklearn.neighbors import KNeighborsClassifier\n",
    "from sklearn.neural_network import MLPClassifier\n",
    "from sklearn.mixture import GaussianMixture\n",
    "from sklearn.metrics import confusion_matrix\n",
    "from sklearn.metrics import precision_score, recall_score, f1_score, accuracy_score\n",
    "from sklearn.metrics import classification_report\n",
    "from sklearn.metrics import accuracy_score\n",
    "from sklearn.metrics import precision_recall_fscore_support as score\n",
    "from sklearn.metrics import roc_curve\n",
    "from sklearn.model_selection import train_test_split\n",
    "from sklearn import svm \n",
    "from sklearn.svm import SVC\n",
    "from sklearn.metrics import accuracy_score, confusion_matrix, roc_curve, roc_auc_score, classification_report, precision_recall_curve, average_precision_score \n",
    "#from sklearn.cross_validation import cross_val_score\n",
    "from sklearn.svm import SVC\n",
    "import matplotlib.pyplot as plt\n",
    "from sklearn.linear_model import LogisticRegression\n",
    "from sklearn.metrics import classification_report\n",
    "from sklearn.metrics import confusion_matrix\n",
    "from sklearn.model_selection import train_test_split\n",
    "import operator\n",
    "from sklearn import metrics\n",
    "import seaborn as sns\n",
    "import glob\n",
    "import openpyxl\n",
    "from pathlib import Path"
   ]
  },
  {
   "cell_type": "code",
   "execution_count": 556,
   "id": "59e17323",
   "metadata": {},
   "outputs": [
    {
     "name": "stdout",
     "output_type": "stream",
     "text": [
      "Reading Paths\n"
     ]
    }
   ],
   "source": [
    "print(\"Reading Paths\")\n",
    "feature='APGDF';\n",
    "train_dataset_real = '/scratch/projects/smiles/Multi_Features/Awais_new_vsdc/VSDC/'+ feature + '/training/0PR/'\n",
    "train_dataset_spoof = '/scratch/projects/smiles/Multi_Features/Awais_new_vsdc/VSDC/'+ feature + '/training/1PR/'\n",
    "test_dataset_real = '/scratch/projects/smiles/Multi_Features/Awais_new_vsdc/VSDC/'+ feature +'/testing/0PR/'\n",
    "test_dataset_spoof = '/scratch/projects/smiles/Multi_Features/Awais_new_vsdc/VSDC/'+ feature +'/testing/1PR/'\n",
    "\n"
   ]
  },
  {
   "cell_type": "code",
   "execution_count": 557,
   "id": "a4b68a71",
   "metadata": {},
   "outputs": [
    {
     "name": "stdout",
     "output_type": "stream",
     "text": [
      "length of real samples 1008\n",
      "length of spoof samples 3704\n",
      " Creating Feature Space \n",
      "(4712, 60)\n",
      " Reading & Creating training Features and Labels\n",
      "Total number of training real labels  1008\n",
      "Total number of training samples  4712\n",
      "Total number of training labels  4712\n"
     ]
    }
   ],
   "source": [
    "import glob, os\n",
    "\n",
    "train_name_r= []\n",
    "train_names_r= []\n",
    "train_labels= []\n",
    "train_names= []\n",
    "train_name_sp = []\n",
    "n_label_sp = []\n",
    "n_label_r = []\n",
    "train_names_sp = []\n",
    "\n",
    "\n",
    "os.chdir(\"/scratch/projects/smiles/Multi_Features/Awais_new_vsdc/VSDC/\"+ feature +\"/training/0PR/\")\n",
    "for file in sorted(glob.glob(\"*.xlsx\")):\n",
    "    n_label_r=file.split('.')\n",
    "    train_name_r=n_label_r[0]\n",
    "    train_names_r.append(train_name_r)\n",
    "    \n",
    "\n",
    "os.chdir(\"/scratch/projects/smiles/Multi_Features/Awais_new_vsdc/VSDC/\"+ feature +\"/training/1PR/\")\n",
    "for file in sorted(glob.glob(\"*.xlsx\")):\n",
    "    #print(file)\n",
    "    n_label_sp=file.split('.')\n",
    "    train_name_sp=n_label_sp[0]\n",
    "    train_names_sp.append(train_name_sp)\n",
    "    \n",
    "    \n",
    "print('length of real samples', len(train_names_r))\n",
    "print('length of spoof samples', len(train_names_sp))\n",
    "\n",
    "totallength = len(train_names_r) + len(train_names_sp)\n",
    "\n",
    "    \n",
    "print(\" Creating Feature Space \")\n",
    "train_features_space = np.zeros((totallength, 60), dtype='float')\n",
    "print(train_features_space.shape)\n",
    "\n",
    "train_features_sp = []*totallength\n",
    "\n",
    "print(\" Reading & Creating training Features and Labels\")\n",
    "try:\n",
    "    for i in range(len(train_names_r)):\n",
    "        #print(train_dataset_real+train_names_r[i]+'.xlsx')\n",
    "        tr_features = pd.read_excel(train_dataset_real+train_names_r[i]+'.xlsx', engine='openpyxl', header=None)\n",
    "        tr_features = tr_features.to_numpy()\n",
    "        train_features_space[i]=tr_features \n",
    "        train_labels.append(0) # 0=real\n",
    "except ValueError:\n",
    "    print('training real file containing issues: ')\n",
    "    print(train_dataset_real+train_names_r[i]+'.xlsx')\n",
    "    raise Exception \n",
    "    pass\n",
    "\n",
    "change_loop = i + 1\n",
    "print('Total number of training real labels ', len(train_labels))\n",
    "\n",
    "try:\n",
    "    for i in range(len(train_names_sp)):\n",
    "        #print(train_dataset_spoof+train_names_sp[i]+'.xlsx')\n",
    "        ts_features = pd.read_excel(train_dataset_spoof+train_names_sp[i]+'.xlsx', engine='openpyxl', header=None)\n",
    "        ts_features = ts_features.to_numpy()\n",
    "        train_features_space[change_loop+i]=ts_features \n",
    "        train_labels.append(1) # 1=spoof\n",
    "except ValueError: \n",
    "        print('training spoof file containing issues: ')\n",
    "        print(train_dataset_spoof+train_names_sp[i]+'.xlsx')\n",
    "        pass\n",
    "\n",
    "\n",
    "print('Total number of training samples ',len(train_features_space))\n",
    "print('Total number of training labels ', len(train_labels))\n",
    "# print('Training feature shape',train_features_sp.shape)"
   ]
  },
  {
   "cell_type": "code",
   "execution_count": 558,
   "id": "e4d18f19",
   "metadata": {},
   "outputs": [],
   "source": [
    "# print('Total number of training samples ',len(train_features_space))\n",
    "# print(train_features_space[4711])"
   ]
  },
  {
   "cell_type": "code",
   "execution_count": 559,
   "id": "297f78c8",
   "metadata": {},
   "outputs": [
    {
     "name": "stdout",
     "output_type": "stream",
     "text": [
      "Preparing testing features and labels\n",
      "length of real samples 678\n",
      "length of spoof samples 2474\n",
      " Creating Feature Space \n",
      "(3152, 60)\n",
      " Reading & Creating training Features and Labels\n",
      "Total number of training samples  3152\n",
      "Total number of training labels  3152\n"
     ]
    }
   ],
   "source": [
    "print('Preparing testing features and labels')\n",
    "\n",
    "import glob, os\n",
    "\n",
    "test_name_r= []\n",
    "test_names_r= []\n",
    "test_labels= []\n",
    "test_names= []\n",
    "test_name_sp = []\n",
    "n_label_sp = []\n",
    "n_label_r = []\n",
    "test_names_sp = []\n",
    "\n",
    "os.chdir(\"/scratch/projects/smiles/Multi_Features/Awais_new_vsdc/VSDC/\"+ feature +\"/testing/0PR/\")\n",
    "for file in glob.glob(\"*.xlsx\"):\n",
    "    n_label_r=file.split('.')\n",
    "    test_name_r=n_label_r[0]\n",
    "    #print(test_name_r)\n",
    "    test_names_r.append(test_name_r)\n",
    "   \n",
    "\n",
    "os.chdir(\"/scratch/projects/smiles/Multi_Features/Awais_new_vsdc/VSDC/\"+ feature +\"/testing/1PR/\")\n",
    "for file in glob.glob(\"*.xlsx\"):\n",
    "    n_label_sp=file.split('.')\n",
    "    test_name_sp=n_label_sp[0]\n",
    "    test_names_sp.append(test_name_sp)\n",
    "    \n",
    "    \n",
    "print('length of real samples', len(test_names_r))\n",
    "print('length of spoof samples', len(test_names_sp))    \n",
    "\n",
    "totallength1 = len(test_names_r) + len(test_names_sp)\n",
    "test_features_sp = []*totallength1\n",
    "\n",
    "print(\" Creating Feature Space \")\n",
    "test_features_space = np.zeros((totallength1, 60), dtype='float')\n",
    "print(test_features_space.shape)\n",
    "\n",
    "print(\" Reading & Creating training Features and Labels\")\n",
    "try:\n",
    "    for i in range(len(test_names_r)):\n",
    "        t_features = pd.read_excel(test_dataset_real+test_names_r[i]+'.xlsx', engine='openpyxl', header=None)\n",
    "        t_features = t_features.to_numpy()\n",
    "        test_features_space[i]=t_features \n",
    "        test_labels.append(0)\n",
    "except ValueError:\n",
    "    print('training real file containing issues: ')\n",
    "    print(test_dataset_real+test_names_r[i]+'.xlsx')\n",
    "    pass\n",
    "\n",
    "change_loop=i+1\n",
    "\n",
    "try:\n",
    "    for i in range(len(test_names_sp)):\n",
    "#       len(train_names)\n",
    "#       print(train_dataset_path+train_names[i]+'.xlsx')\n",
    "        ts_features = pd.read_excel(test_dataset_spoof+test_names_sp[i]+'.xlsx', engine='openpyxl', header=None)\n",
    "        ts_features = ts_features.to_numpy()\n",
    "        test_features_space[change_loop+i]=ts_features \n",
    "        test_labels.append(1)\n",
    "except ValueError:\n",
    "    print('testing spoof file containing  issues: ')\n",
    "    print(test_dataset_spoof+test_names_sp[i]+'.xlsx')\n",
    "    pass\n",
    "        \n",
    "        \n",
    "print('Total number of training samples ',len(test_features_space))\n",
    "print('Total number of training labels ', len(test_labels))"
   ]
  },
  {
   "cell_type": "code",
   "execution_count": 560,
   "id": "cc7e751d",
   "metadata": {},
   "outputs": [],
   "source": [
    "# print(test_features_space[3151])"
   ]
  },
  {
   "cell_type": "code",
   "execution_count": 561,
   "id": "5d439f1b",
   "metadata": {},
   "outputs": [
    {
     "name": "stdout",
     "output_type": "stream",
     "text": [
      "(4712,)\n",
      "(4712, 60)\n",
      "(3152,)\n",
      "(3152, 60)\n",
      "setting train test Data\n"
     ]
    }
   ],
   "source": [
    "training_labels = np.array(train_labels)\n",
    "Evaluation_labels = np.array(test_labels)\n",
    "training_features = np.array(train_features_space)\n",
    "Evaluation_features = np.array(test_features_space)\n",
    "print(training_labels.shape)\n",
    "print(training_features.shape)\n",
    "print(Evaluation_labels.shape)\n",
    "print(Evaluation_features.shape)\n",
    "print(\"setting train test Data\")\n",
    "#X_train, X_test, y_train, y_test = train_test_split(train_features_space, train_labels, train_size = 0.70)\n",
    "X_train=training_features\n",
    "X_test=Evaluation_features\n",
    "y_train=training_labels\n",
    "y_test=Evaluation_labels"
   ]
  },
  {
   "cell_type": "code",
   "execution_count": 562,
   "id": "88a0179e",
   "metadata": {},
   "outputs": [
    {
     "name": "stdout",
     "output_type": "stream",
     "text": [
      "\n",
      "Accuracy of SVM(linear) classifier on test set: 0.89\n",
      "F1-score of SVM(linear) classifier on test set: 0.93\n",
      "Precision of SVM(linear) classifier on test set: 0.89\n",
      "Recall of SVM(linear) classifier on test set: 0.98\n",
      "\n",
      "\n",
      "Confusion Matrix: \n",
      " [[ 383  295]\n",
      " [  50 2424]]\n"
     ]
    },
    {
     "data": {
      "image/png": "[encoded data removed]",
      "text/plain": [
       "<Figure size 432x288 with 2 Axes>"
      ]
     },
     "metadata": {},
     "output_type": "display_data"
    }
   ],
   "source": [
    "model_svm = SVC(kernel=\"linear\",probability=True)\n",
    "model_svm.fit(X_train, y_train)\n",
    "y_pred_svm = model_svm.predict(X_test)\n",
    "# probs_svm = model_svm.predict_proba(X_test)\n",
    "# preds_svm = probs_svm[:,1]\n",
    "# fpr_svm, tpr_svm, threshold = metrics.roc_curve(y_test, preds_svm)\n",
    "# roc_auc_svm = metrics.auc(fpr_svm, tpr_svm)\n",
    "print('\\nAccuracy of SVM(linear) classifier on test set: {:.2f}'.format(model_svm.score(X_test, y_test)))\n",
    "print(\"F1-score of SVM(linear) classifier on test set: {:.2f}\".format(metrics.f1_score(y_test, y_pred_svm)))\n",
    "print(\"Precision of SVM(linear) classifier on test set: {:.2f}\".format(metrics.precision_score( y_test,y_pred_svm)))\n",
    "print(\"Recall of SVM(linear) classifier on test set: {:.2f}\\n\".format(metrics.recall_score(y_test,y_pred_svm)))\n",
    "\n",
    "\n",
    "sns.set(font_scale=1.0)\n",
    "conf_mtx_nb_svm = metrics.confusion_matrix(y_test, y_pred_svm)\n",
    "sns.heatmap(conf_mtx_nb_svm, annot=True, fmt='g')\n",
    "print('\\nConfusion Matrix: \\n', conf_mtx_nb_svm )\n"
   ]
  },
  {
   "cell_type": "code",
   "execution_count": 563,
   "id": "8b7006dd",
   "metadata": {
    "scrolled": false
   },
   "outputs": [
    {
     "name": "stdout",
     "output_type": "stream",
     "text": [
      "\n",
      "Confusion Matrix: \n",
      " [[ 383  295]\n",
      " [  50 2424]]\n",
      "classification Report\n",
      "              precision    recall  f1-score   support\n",
      "\n",
      "           0       0.88      0.56      0.69       678\n",
      "           1       0.89      0.98      0.93      2474\n",
      "\n",
      "    accuracy                           0.89      3152\n",
      "   macro avg       0.89      0.77      0.81      3152\n",
      "weighted avg       0.89      0.89      0.88      3152\n",
      "\n",
      "classification Report END\n",
      "Hand-crafted Features:  APGDF\n",
      "Score Report Start\n",
      "EER: 0.4351032448377581\n",
      "accuracy: 0.8905456852791879\n",
      "precision: [0.88452656 0.89150423]\n",
      "recall: [0.56489676 0.97978981]\n",
      "fscore: [0.68946895 0.93356441]\n",
      "support: [ 678 2474]\n",
      "Score Report End\n"
     ]
    }
   ],
   "source": [
    "sns.set(font_scale=1.0)\n",
    "conf_mtx_nb_svm = metrics.confusion_matrix(y_test, y_pred_svm)\n",
    "#sns.heatmap(conf_mtx_nb_svm, annot=True, fmt='g')\n",
    "print('\\nConfusion Matrix: \\n', conf_mtx_nb_svm )\n",
    "\n",
    "\n",
    "print('classification Report')\n",
    "report=classification_report(y_test, y_pred_svm)\n",
    "print(report)\n",
    "\n",
    "accuracy=accuracy_score(y_test, y_pred_svm)\n",
    "precision, recall, fscore, support = score(y_test, y_pred_svm)\n",
    "print('classification Report END')\n",
    "\n",
    "fpr, tpr, threshold = roc_curve(y_test, y_pred_svm)\n",
    "fnr = 1 - tpr\n",
    "eer_threshold = threshold[np.nanargmin(np.absolute((fnr - fpr)))]\n",
    "EER = fpr[np.nanargmin(np.absolute((fnr - fpr)))]\n",
    "\n",
    "print('Hand-crafted Features: ',feature)\n",
    "print('Score Report Start')\n",
    "print('EER: {}'.format(EER))\n",
    "print('accuracy: {}'.format(accuracy))\n",
    "print('precision: {}'.format(precision))\n",
    "print('recall: {}'.format(recall))\n",
    "print('fscore: {}'.format(fscore))\n",
    "print('support: {}'.format(support))\n",
    "print('Score Report End')"
   ]
  },
  {
   "cell_type": "code",
   "execution_count": null,
   "id": "489d8be6",
   "metadata": {},
   "outputs": [],
   "source": []
  },
  {
   "cell_type": "code",
   "execution_count": null,
   "id": "0aec11ea",
   "metadata": {},
   "outputs": [],
   "source": []
  },
  {
   "cell_type": "code",
   "execution_count": null,
   "id": "20b603da",
   "metadata": {},
   "outputs": [],
   "source": []
  }
 ],
 "metadata": {
  "kernelspec": {
   "display_name": "Python 3 (ipykernel)",
   "language": "python",
   "name": "python3"
  },
  "language_info": {
   "codemirror_mode": {
    "name": "ipython",
    "version": 3
   },
   "file_extension": ".py",
   "mimetype": "text/x-python",
   "name": "python",
   "nbconvert_exporter": "python",
   "pygments_lexer": "ipython3",
   "version": "3.9.12"
  }
 },
 "nbformat": 4,
 "nbformat_minor": 5
}
