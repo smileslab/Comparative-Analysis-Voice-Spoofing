{
 "cells": [
  {
   "cell_type": "code",
   "execution_count": 66,
   "id": "0aecb3cf",
   "metadata": {},
   "outputs": [],
   "source": [
    "import re\n",
    "import numpy as np\n",
    "import pandas as pd\n",
    "import time\n",
    "import os\n",
    "from collections import deque\n",
    "from sklearn.model_selection import train_test_split\n",
    "from sklearn.svm import SVC\n",
    "from sklearn.neighbors import KNeighborsClassifier\n",
    "from sklearn.neural_network import MLPClassifier\n",
    "from sklearn.mixture import GaussianMixture\n",
    "from sklearn.metrics import confusion_matrix\n",
    "from sklearn.metrics import precision_score, recall_score, f1_score, accuracy_score\n",
    "from sklearn.metrics import classification_report\n",
    "from sklearn.metrics import accuracy_score\n",
    "from sklearn.metrics import precision_recall_fscore_support as score\n",
    "from sklearn.metrics import roc_curve\n",
    "from sklearn.model_selection import train_test_split\n",
    "from sklearn import svm \n",
    "from sklearn.svm import SVC\n",
    "from sklearn.metrics import accuracy_score, confusion_matrix, roc_curve, roc_auc_score, classification_report, precision_recall_curve, average_precision_score \n",
    "#from sklearn.cross_validation import cross_val_score\n",
    "from sklearn.svm import SVC\n",
    "import matplotlib.pyplot as plt\n",
    "from sklearn.linear_model import LogisticRegression\n",
    "from sklearn.metrics import classification_report\n",
    "from sklearn.metrics import confusion_matrix\n",
    "from sklearn.model_selection import train_test_split\n",
    "import operator\n",
    "from sklearn import metrics\n",
    "import seaborn as sns\n",
    "import glob\n",
    "import openpyxl\n",
    "from pathlib import Path\n",
    "from tqdm import tqdm"
   ]
  },
  {
   "cell_type": "code",
   "execution_count": 110,
   "id": "fe9489c8",
   "metadata": {},
   "outputs": [
    {
     "name": "stdout",
     "output_type": "stream",
     "text": [
      "Reading Paths\n"
     ]
    }
   ],
   "source": [
    "print(\"Reading Paths\")\n",
    "feature='RFCC'\n",
    "train_dataset_real_vsdc = '/scratch/projects/smiles/Multi_Features/Awais_new_vsdc/VSDC/'+ feature + '/training/0PR/'\n",
    "train_dataset_spoof_vsdc = '/scratch/projects/smiles/Multi_Features/Awais_new_vsdc/VSDC/'+ feature + '/training/1PR/'\n",
    "test_dataset_real_vsdc = '/scratch/projects/smiles/Multi_Features/Awais_new_vsdc/VSDC/'+ feature +'/testing/0PR/'\n",
    "test_dataset_spoof_vsdc = '/scratch/projects/smiles/Multi_Features/Awais_new_vsdc/VSDC/'+ feature +'/testing/1PR/'\n",
    "\n",
    "train_dataset_path_asv='/scratch/projects/smiles/Multi_Features/Awais_new/'+feature+'/ASVSpoof2019/PA/ASVspoof2019_PA_train/flac/'\n",
    "eval_dataset_path_asv='/scratch/projects/smiles/Multi_Features/Awais_new/'+feature +'/ASVSpoof2019/PA/ASVspoof2019_PA_eval/flac/'\n",
    "# dev_dataset_path ='/scratch/projects/smiles/Multi_Features/Awais_new/'+feature +'/ASVSpoof2019/PA/ASVspoof2019_PA_dev/flac/'\n",
    "train_dataset_load_asv = os.listdir(train_dataset_path_asv) \n",
    "train_raw_labels_asv =  open('/scratch/projects/smiles/Multi_Features/Awais_new/ASVspoof2019.PA.cm.train.trn.txt', 'r')\n",
    "# dev_dataset_load = os.listdir(dev_dataset_path) \n",
    "# dev_raw_labels =    open('/scratch/projects/smiles/Multi_Features/Awais_new/ASVspoof2019.PA.cm.dev.trl.txt', 'r')\n",
    "eval_dataset_load_asv = os.listdir(eval_dataset_path_asv) \n",
    "eval_raw_labels_asv =   open('/scratch/projects/smiles/Multi_Features/Awais_new/ASVspoof2019.PA.cm.eval.trl.txt', 'r')\n"
   ]
  },
  {
   "cell_type": "code",
   "execution_count": 86,
   "id": "95321aec",
   "metadata": {},
   "outputs": [
    {
     "name": "stdout",
     "output_type": "stream",
     "text": [
      "Preparing VSDC Training feature and Labels\n",
      "length of real samples 1008\n",
      "length of spoof samples 3704\n",
      " Creating Feature Space \n",
      "(4712, 60)\n",
      " Reading & Creating training Features and Labels\n"
     ]
    },
    {
     "name": "stderr",
     "output_type": "stream",
     "text": [
      "100%|████████████████████████████████████████████████████████████████████████████████████████████████████████████████| 1008/1008 [00:07<00:00, 139.73it/s]\n"
     ]
    },
    {
     "name": "stdout",
     "output_type": "stream",
     "text": [
      "Total number of training real labels  1008\n"
     ]
    },
    {
     "name": "stderr",
     "output_type": "stream",
     "text": [
      "100%|████████████████████████████████████████████████████████████████████████████████████████████████████████████████| 3704/3704 [00:26<00:00, 137.53it/s]"
     ]
    },
    {
     "name": "stdout",
     "output_type": "stream",
     "text": [
      "Total number of training samples  4712\n",
      "Total number of training labels  4712\n"
     ]
    },
    {
     "name": "stderr",
     "output_type": "stream",
     "text": [
      "\n"
     ]
    }
   ],
   "source": [
    "train_name_r= []\n",
    "train_names_r= []\n",
    "train_labels_vsdc= []\n",
    "train_names= []\n",
    "train_name_sp = []\n",
    "n_label_sp = []\n",
    "n_label_r = []\n",
    "train_names_sp = []\n",
    "\n",
    "print('Preparing VSDC Training feature and Labels')\n",
    "\n",
    "os.chdir(\"/scratch/projects/smiles/Multi_Features/Awais_new_vsdc/VSDC/\"+ feature +\"/training/0PR/\")\n",
    "for file in sorted(glob.glob(\"*.xlsx\")):\n",
    "    n_label_r=file.split('.')\n",
    "    train_name_r=n_label_r[0]\n",
    "    train_names_r.append(train_name_r)\n",
    "    \n",
    "os.chdir(\"/scratch/projects/smiles/Multi_Features/Awais_new_vsdc/VSDC/\"+ feature +\"/training/1PR/\")\n",
    "for file in sorted(glob.glob(\"*.xlsx\")):\n",
    "    #print(file)\n",
    "    n_label_sp=file.split('.')\n",
    "    train_name_sp=n_label_sp[0]\n",
    "    train_names_sp.append(train_name_sp)\n",
    "    \n",
    "    \n",
    "print('length of real samples', len(train_names_r))\n",
    "print('length of spoof samples', len(train_names_sp))\n",
    "\n",
    "totallength_train = len(train_names_r) + len(train_names_sp)\n",
    "\n",
    "print(\" Creating Feature Space \")\n",
    "train_features_space_vsdc = np.zeros((totallength_train, 60), dtype='float')\n",
    "print(train_features_space_vsdc.shape)\n",
    "\n",
    "print(\" Reading & Creating training Features and Labels\")\n",
    "\n",
    "for i in tqdm(range(len(train_names_r))):\n",
    "    try:\n",
    "        #print(train_dataset_real+train_names_r[i]+'.xlsx')\n",
    "        tr_features = pd.read_excel(train_dataset_real_vsdc+train_names_r[i]+'.xlsx', engine='openpyxl', header=None)\n",
    "        tr_features = tr_features.to_numpy()\n",
    "        train_features_space_vsdc[i]=tr_features \n",
    "        train_labels_vsdc.append(0) # 0=real\n",
    "    except ValueError:\n",
    "        print('training real file containing issues: ')\n",
    "        print(train_dataset_real_vsdc+train_names_r[i]+'.xlsx')\n",
    "        pass\n",
    "\n",
    "change_loop = i + 1\n",
    "\n",
    "print('Total number of training real labels ', len(train_labels_vsdc))\n",
    "\n",
    "\n",
    "for i in tqdm(range(len(train_names_sp))):\n",
    "    try:\n",
    "        #print(train_dataset_spoof+train_names_sp[i]+'.xlsx')\n",
    "        ts_features = pd.read_excel(train_dataset_spoof_vsdc+train_names_sp[i]+'.xlsx', engine='openpyxl', header=None)\n",
    "        ts_features = ts_features.to_numpy()\n",
    "        train_features_space_vsdc[change_loop+i]=ts_features \n",
    "        train_labels_vsdc.append(1) # 1=spoof\n",
    "    except ValueError: \n",
    "        print('training spoof file containing issues: ')\n",
    "        print(train_dataset_spoof_vsdc+train_names_sp[i]+'.xlsx')\n",
    "        pass\n",
    "\n",
    "print('Total number of training samples ',len(train_features_space_vsdc))\n",
    "print('Total number of training labels ', len(train_labels_vsdc))\n",
    "# print('Training feature shape',train_features_sp.shape)\n"
   ]
  },
  {
   "cell_type": "code",
   "execution_count": null,
   "id": "91c5fe90",
   "metadata": {},
   "outputs": [],
   "source": []
  },
  {
   "cell_type": "code",
   "execution_count": 85,
   "id": "6c2de64f",
   "metadata": {},
   "outputs": [
    {
     "name": "stdout",
     "output_type": "stream",
     "text": [
      "Preparing VSDC testing features and Labels\n",
      "length of real samples 678\n",
      "length of spoof samples 2474\n",
      " Creating Feature Space \n",
      "(3152, 60)\n",
      " Reading & Creating training Features and Labels\n"
     ]
    },
    {
     "name": "stderr",
     "output_type": "stream",
     "text": [
      "100%|██████████████████████████████████████████████████████████████████████████████████████████████████████████████████| 678/678 [00:04<00:00, 137.58it/s]\n",
      "100%|████████████████████████████████████████████████████████████████████████████████████████████████████████████████| 2474/2474 [00:17<00:00, 138.60it/s]"
     ]
    },
    {
     "name": "stdout",
     "output_type": "stream",
     "text": [
      "Total number of Testing VSDC samples  3152\n",
      "Total number of Testing VSDC labels  3152\n"
     ]
    },
    {
     "name": "stderr",
     "output_type": "stream",
     "text": [
      "\n"
     ]
    }
   ],
   "source": [
    "\n",
    "print('Preparing VSDC testing features and Labels')\n",
    "\n",
    "test_name_r= []\n",
    "test_names_r= []\n",
    "test_labels_vsdc= []\n",
    "test_names= []\n",
    "test_name_sp = []\n",
    "n_label_sp = []\n",
    "n_label_r = []\n",
    "test_names_sp = []\n",
    "\n",
    "os.chdir(\"/scratch/projects/smiles/Multi_Features/Awais_new_vsdc/VSDC/\"+ feature +\"/testing/0PR/\")\n",
    "for file in glob.glob(\"*.xlsx\"):\n",
    "    n_label_r=file.split('.')\n",
    "    test_name_r=n_label_r[0]\n",
    "    #print(test_name_r)\n",
    "    test_names_r.append(test_name_r)\n",
    "\n",
    "    \n",
    "os.chdir(\"/scratch/projects/smiles/Multi_Features/Awais_new_vsdc/VSDC/\"+ feature +\"/testing/1PR/\")\n",
    "for file in glob.glob(\"*.xlsx\"):\n",
    "    n_label_sp=file.split('.')\n",
    "    test_name_sp=n_label_sp[0]\n",
    "    test_names_sp.append(test_name_sp)\n",
    "    \n",
    "    \n",
    "print('length of real samples', len(test_names_r))\n",
    "print('length of spoof samples', len(test_names_sp))    \n",
    "\n",
    "totallength_test = len(test_names_r) + len(test_names_sp)\n",
    "\n",
    "\n",
    "print(\" Creating Feature Space \")\n",
    "test_features_space_vsdc = np.zeros((totallength_test, 60), dtype='float')\n",
    "print(test_features_space_vsdc.shape)\n",
    "\n",
    "print(\" Reading & Creating training Features and Labels\")\n",
    "\n",
    "for i in tqdm(range(len(test_names_r))):\n",
    "    try:\n",
    "        t_features = pd.read_excel(test_dataset_real_vsdc+test_names_r[i]+'.xlsx', engine='openpyxl', header=None)\n",
    "        t_features = t_features.to_numpy()\n",
    "        test_features_space_vsdc[i]=t_features \n",
    "        test_labels_vsdc.append(0)\n",
    "    except ValueError:\n",
    "        print('training real file containing issues: ')\n",
    "        print(test_dataset_real_vsdc+test_names_r[i]+'.xlsx')\n",
    "        pass\n",
    "\n",
    "change_loop1=i+1\n",
    "\n",
    "\n",
    "for i in tqdm(range(len(test_names_sp))):\n",
    "    try:\n",
    "#       len(train_names)\n",
    "#       print(train_dataset_path+train_names[i]+'.xlsx')\n",
    "        ts_features = pd.read_excel(test_dataset_spoof_vsdc+test_names_sp[i]+'.xlsx', engine='openpyxl', header=None)\n",
    "        ts_features = ts_features.to_numpy()\n",
    "        test_features_space_vsdc[change_loop1+i]=ts_features \n",
    "        test_labels_vsdc.append(1)\n",
    "    except ValueError:\n",
    "        print('testing spoof file containing  issues: ')\n",
    "        print(test_dataset_spoof_vsdc+test_names_sp[i]+'.xlsx')\n",
    "        pass\n",
    "        \n",
    "        \n",
    "print('Total number of Testing VSDC samples ',len(test_features_space_vsdc))\n",
    "print('Total number of Testing VSDC labels ', len(test_labels_vsdc))\n"
   ]
  },
  {
   "cell_type": "code",
   "execution_count": 111,
   "id": "0262451f",
   "metadata": {},
   "outputs": [],
   "source": [
    "path_train =\"/scratch/projects/smiles/Multi_Features/Awais_new_vsdc/VSDC/\"+ feature +\"/training/\"\n",
    "path_test =\"/scratch/projects/smiles/Multi_Features/Awais_new_vsdc/VSDC/\"+ feature +\"/testing/\""
   ]
  },
  {
   "cell_type": "code",
   "execution_count": 109,
   "id": "5b6a3c13",
   "metadata": {},
   "outputs": [
    {
     "name": "stdout",
     "output_type": "stream",
     "text": [
      "Saving read features and labels\n"
     ]
    }
   ],
   "source": [
    "print(\"Saving read features and labels\")\n",
    "\n",
    "np.save(os.path.join(path_train, feature+ '_train_features.npy'), train_features_space_vsdc)\n",
    "np.save(os.path.join(path_train, feature+ '_train_labels.npy'), train_labels_vsdc)\n",
    "np.save(os.path.join(path_test, feature+ '_test_features.npy'), test_features_space_vsdc)\n",
    "np.save(os.path.join(path_test, feature+ '_test_labels.npy'), test_labels_vsdc)"
   ]
  },
  {
   "cell_type": "code",
   "execution_count": 112,
   "id": "8c0c7718",
   "metadata": {},
   "outputs": [
    {
     "name": "stdout",
     "output_type": "stream",
     "text": [
      "Loading read features and labels\n"
     ]
    }
   ],
   "source": [
    "print(\"Loading read features and labels\")\n",
    "train_features_space_vsdc=list(np.load(os.path.join(path_train, feature + '_train_features.npy'), allow_pickle=True))\n",
    "train_labels_vsdc=list(np.load(os.path.join(path_train, feature + '_train_labels.npy'), allow_pickle=True))\n",
    "test_features_space_vsdc=list(np.load(os.path.join(path_test, feature + '_test_features.npy'), allow_pickle=True))\n",
    "test_labels_vsdc=list(np.load(os.path.join(path_test, feature + '_test_labels.npy'), allow_pickle=True))"
   ]
  },
  {
   "cell_type": "code",
   "execution_count": 113,
   "id": "e750c36c",
   "metadata": {},
   "outputs": [
    {
     "name": "stdout",
     "output_type": "stream",
     "text": [
      "4712\n",
      "4712\n",
      "3152\n",
      "3152\n"
     ]
    }
   ],
   "source": [
    "print(len(train_features_space_vsdc))\n",
    "print(len(train_labels_vsdc))\n",
    "print(len(test_features_space_vsdc))\n",
    "print(len(test_labels_vsdc))"
   ]
  },
  {
   "cell_type": "code",
   "execution_count": 73,
   "id": "b1e373d7",
   "metadata": {},
   "outputs": [
    {
     "name": "stdout",
     "output_type": "stream",
     "text": [
      "Preparing ASVspoof2019 Data features and labels\n"
     ]
    },
    {
     "name": "stderr",
     "output_type": "stream",
     "text": [
      "54000it [00:00, 864072.52it/s]\n"
     ]
    },
    {
     "name": "stdout",
     "output_type": "stream",
     "text": [
      "Done\n"
     ]
    },
    {
     "name": "stderr",
     "output_type": "stream",
     "text": [
      "134730it [00:00, 653488.07it/s]\n"
     ]
    },
    {
     "name": "stdout",
     "output_type": "stream",
     "text": [
      "Done\n",
      " Reading & Creating Features \n",
      "(54000, 60)\n",
      "(134730, 60)\n"
     ]
    },
    {
     "name": "stderr",
     "output_type": "stream",
     "text": [
      "100%|███████████████████████████████████████████████████████████████████████████████████████████████████████████████| 54000/54000 [14:09<00:00, 63.56it/s]\n",
      "100%|█████████████████████████████████████████████████████████████████████████████████████████████████████████████| 134730/134730 [36:46<00:00, 61.06it/s]\n"
     ]
    }
   ],
   "source": [
    "\n",
    "print('Preparing ASVspoof2019 Data features and labels')\n",
    "train_names_asv= []\n",
    "train_labels_asv= []\n",
    "train_lab = []\n",
    "\n",
    "eval_names_asv= []\n",
    "eval_labels_asv= []\n",
    "eval_lab = []\n",
    "# dev_names= []\n",
    "# dev_labels= []\n",
    "\n",
    "with open('/scratch/projects/smiles/Multi_Features/Awais_new/ASVspoof2019.PA.cm.train.trn.txt', 'r') as f:\n",
    "    for i,line in enumerate(tqdm(f)): #train_raw_labels\n",
    "        t_label = line.split(' ')\n",
    "        t_name = t_label[1]\n",
    "        #print(i)\n",
    "        #time.sleep(2)\n",
    "        train_names_asv.append(t_name.strip())\n",
    "        t_lab = t_label[4].strip()\n",
    "        if str(t_lab)=='spoof':\n",
    "            train_labels_asv.append(1)\n",
    "        elif str(t_lab)=='bonafide':\n",
    "            train_labels_asv.append(0)  \n",
    "print(\"Done\")\n",
    "\n",
    "\n",
    "with open('/scratch/projects/smiles/Multi_Features/Awais_new/ASVspoof2019.PA.cm.eval.trl.txt', 'r') as f:\n",
    "    for j,line1 in enumerate(tqdm(f)): #train_raw_labels\n",
    "        e_label = line1.split(' ')\n",
    "        e_name = e_label[1]\n",
    "        #print(i)\n",
    "        #time.sleep(2)\n",
    "        eval_names_asv.append(e_name.strip())\n",
    "        eval_lab = e_label[4].strip()\n",
    "        if str(eval_lab)=='spoof':\n",
    "            eval_labels_asv.append(1)\n",
    "        elif str(eval_lab)=='bonafide':\n",
    "            eval_labels_asv.append(0)  \n",
    "print(\"Done\")\n",
    "\n",
    "\n",
    "\n",
    "# print(\" Preparing Development Data \")  \n",
    "# for j in dev_raw_labels:\n",
    "#     d_label = j.split(' ')\n",
    "#     d_name = d_label[1]\n",
    "#     dev_names_asv.append(d_name.strip())\n",
    "#     dev_lab = d_label[4].strip()\n",
    "#     if str(dev_lab)=='spoof':\n",
    "#         dev_labels_asv.append(0)\n",
    "#     elif str(dev_lab)=='bonafide':\n",
    "#         dev_labels_asv.append(1)  \n",
    "  \n",
    "print(\" Reading & Creating Features \")\n",
    "\n",
    "train_features_space_asv = np.zeros((len(train_names_asv), 60), dtype='float')\n",
    "print(train_features_space_asv.shape)\n",
    "\n",
    "eval_features_space_asv = np.zeros((len(eval_names_asv), 60), dtype='float')\n",
    "print(eval_features_space_asv.shape)\n",
    "\n",
    "# dev_features_space_asv = np.zeros((len(dev_names_asv), 60), dtype='float')\n",
    "# print(dev_features_space_asv.shape)\n",
    "\n",
    " \n",
    "for i in tqdm(range(len(train_names_asv))): #len(names)\n",
    "    try:\n",
    "        t_features = pd.read_excel(train_dataset_path_asv+train_names_asv[i]+'.xlsx', engine='openpyxl', header=None)\n",
    "        t_features = t_features.to_numpy()\n",
    "        train_features_space_asv[i]=t_features\n",
    "    except ValueError:\n",
    "        print('training real file containing issues: ')\n",
    "        print(train_dataset_path_asv+train_names_asv[i]+'.xlsx')\n",
    "        pass\n",
    "\n",
    "for k in tqdm(range(len(eval_names_asv))): #len(names)\n",
    "    try:\n",
    "        e_features = pd.read_excel(eval_dataset_path_asv+eval_names_asv[k]+'.xlsx', engine='openpyxl', header=None)\n",
    "        e_features = e_features.to_numpy()\n",
    "        eval_features_space_asv[k]=e_features \n",
    "    except ValueError:\n",
    "        print('training real file containing issues: ')\n",
    "        print(eval_dataset_path_asv+eval_names_asv[k]+'.xlsx')\n",
    "        pass\n",
    "    \n",
    "# for j in range(len(dev_names)): #len(names)\n",
    "#     d_features = pd.read_excel(dev_dataset_path_asv+dev_names_asv[j]+'.xlsx', engine='openpyxl', header=None)\n",
    "#     d_features = d_features.to_numpy()\n",
    "#     dev_features_space_asv[j]=d_features \n",
    "\n",
    "    "
   ]
  },
  {
   "cell_type": "code",
   "execution_count": 115,
   "id": "516b4eef",
   "metadata": {},
   "outputs": [],
   "source": [
    "path='/scratch/projects/smiles/Multi_Features/Awais_new/'+feature+'/ASVSpoof2019/PA/ASVspoof2019_PA_train/'"
   ]
  },
  {
   "cell_type": "code",
   "execution_count": 116,
   "id": "95c963e9",
   "metadata": {},
   "outputs": [
    {
     "name": "stdout",
     "output_type": "stream",
     "text": [
      "Saving read features and labels\n"
     ]
    }
   ],
   "source": [
    "print(\"Saving read features and labels\")\n",
    "\n",
    "np.save(os.path.join(path, feature+ '_training.npy'), train_features_space_asv)\n",
    "np.save(os.path.join(path, feature+ '_evaluation.npy'), eval_features_space_asv)\n",
    "np.save(os.path.join(path, feature+ '_train_labels.npy'), train_labels_asv)\n",
    "np.save(os.path.join(path, feature+ '_eval_labels.npy'), eval_labels_asv)"
   ]
  },
  {
   "cell_type": "code",
   "execution_count": 117,
   "id": "8960cb0d",
   "metadata": {},
   "outputs": [
    {
     "name": "stdout",
     "output_type": "stream",
     "text": [
      "Loading read features and labels\n"
     ]
    }
   ],
   "source": [
    "print(\"Loading read features and labels\")\n",
    "train_features_space_asv=list(np.load(os.path.join(path, feature+ '_training.npy'), allow_pickle=True))\n",
    "train_labels_asv=list(np.load(os.path.join(path, feature + '_train_labels.npy'), allow_pickle=True))\n",
    "test_features_space_asv=list(np.load(os.path.join(path, feature + '_evaluation.npy'), allow_pickle=True))\n",
    "test_labels_asv=list(np.load(os.path.join(path, feature+ '_eval_labels.npy'), allow_pickle=True))"
   ]
  },
  {
   "cell_type": "code",
   "execution_count": 118,
   "id": "ba203451",
   "metadata": {},
   "outputs": [
    {
     "name": "stdout",
     "output_type": "stream",
     "text": [
      "Training Sample -> Total: 54000 Spoof: 48600 Bonafide: 5400\n",
      "Development Sample -> Total: 134730 Spoof: 116640 Bonafide: 18090\n"
     ]
    }
   ],
   "source": [
    "count_train_zero = train_labels_asv.count(0)\n",
    "count_train_ones = train_labels_asv.count(1)\n",
    "print(\"Training Sample -> Total:\", count_train_zero+count_train_ones, \"Spoof:\", count_train_ones, \"Bonafide:\",count_train_zero)\n",
    "count_eval_zero = eval_labels_asv.count(0)\n",
    "count_eval_ones = eval_labels_asv.count(1)\n",
    "print(\"Development Sample -> Total:\", count_eval_zero+count_eval_ones, \"Spoof:\", count_eval_ones, \"Bonafide:\",count_eval_zero)"
   ]
  },
  {
   "cell_type": "code",
   "execution_count": 101,
   "id": "6b5e30e0",
   "metadata": {},
   "outputs": [
    {
     "name": "stdout",
     "output_type": "stream",
     "text": [
      "VSDC Training Labels  (4712,)\n",
      "VSDC Training Features  (4712, 60)\n",
      "VSDC Testing Labels  (3152,)\n",
      "VSDC Testing Features  (3152, 60)\n",
      "setting VSDC train test Data\n",
      "ASV Training Labels  (54000,)\n",
      "ASV Training Features  (54000, 60)\n",
      "ASV Evaluation Labels  (134730,)\n",
      "ASV Evaluation Features  (134730, 60)\n",
      "setting ASV train test Data\n"
     ]
    }
   ],
   "source": [
    "training_labels_vsdc = np.array(train_labels_vsdc)\n",
    "Evaluation_labels_vsdc = np.array(test_labels_vsdc)\n",
    "training_features_vsdc = np.array(train_features_space_vsdc)\n",
    "Evaluation_features_vsdc = np.array(test_features_space_vsdc)\n",
    "print('VSDC Training Labels '  , training_labels_vsdc.shape)\n",
    "print('VSDC Training Features ', training_features_vsdc.shape)\n",
    "print('VSDC Testing Labels '   , Evaluation_labels_vsdc.shape)\n",
    "print('VSDC Testing Features ' , Evaluation_features_vsdc.shape)\n",
    "print(\"setting VSDC train test Data\")\n",
    "#X_train, X_test, y_train, y_test = train_test_split(train_features_space, train_labels, train_size = 0.70)\n",
    "X_train_vsdc=training_features_vsdc\n",
    "X_test_vsdc=Evaluation_features_vsdc\n",
    "y_train_vsdc=training_labels_vsdc\n",
    "y_test_vsdc=Evaluation_labels_vsdc\n",
    "\n",
    "\n",
    "training_labels_asv = np.array(train_labels_asv)\n",
    "Evaluation_labels_asv = np.array(eval_labels_asv)\n",
    "training_features_asv = np.array(train_features_space_asv)\n",
    "Evaluation_features_asv = np.array(eval_features_space_asv)\n",
    "print('ASV Training Labels ', training_labels_asv.shape)\n",
    "print('ASV Training Features ', training_features_asv.shape)\n",
    "print('ASV Evaluation Labels ' , Evaluation_labels_asv.shape)\n",
    "print('ASV Evaluation Features ',Evaluation_features_asv.shape)\n",
    "print(\"setting ASV train test Data\")\n",
    "#X_train, X_test, y_train, y_test = train_test_split(train_features_space, train_labels, train_size = 0.70)\n",
    "X_train_asv=training_features_asv\n",
    "X_test_asv=Evaluation_features_asv\n",
    "y_train_asv=training_labels_asv\n",
    "y_test_asv=Evaluation_labels_asv\n",
    "\n"
   ]
  },
  {
   "cell_type": "code",
   "execution_count": 119,
   "id": "369c9794",
   "metadata": {},
   "outputs": [
    {
     "name": "stdout",
     "output_type": "stream",
     "text": [
      "Classifier Setting\n"
     ]
    },
    {
     "data": {
      "text/html": [
       "<style>#sk-container-id-5 {color: black;background-color: white;}#sk-container-id-5 pre{padding: 0;}#sk-container-id-5 div.sk-toggleable {background-color: white;}#sk-container-id-5 label.sk-toggleable__label {cursor: pointer;display: block;width: 100%;margin-bottom: 0;padding: 0.3em;box-sizing: border-box;text-align: center;}#sk-container-id-5 label.sk-toggleable__label-arrow:before {content: \"▸\";float: left;margin-right: 0.25em;color: #696969;}#sk-container-id-5 label.sk-toggleable__label-arrow:hover:before {color: black;}#sk-container-id-5 div.sk-estimator:hover label.sk-toggleable__label-arrow:before {color: black;}#sk-container-id-5 div.sk-toggleable__content {max-height: 0;max-width: 0;overflow: hidden;text-align: left;background-color: #f0f8ff;}#sk-container-id-5 div.sk-toggleable__content pre {margin: 0.2em;color: black;border-radius: 0.25em;background-color: #f0f8ff;}#sk-container-id-5 input.sk-toggleable__control:checked~div.sk-toggleable__content {max-height: 200px;max-width: 100%;overflow: auto;}#sk-container-id-5 input.sk-toggleable__control:checked~label.sk-toggleable__label-arrow:before {content: \"▾\";}#sk-container-id-5 div.sk-estimator input.sk-toggleable__control:checked~label.sk-toggleable__label {background-color: #d4ebff;}#sk-container-id-5 div.sk-label input.sk-toggleable__control:checked~label.sk-toggleable__label {background-color: #d4ebff;}#sk-container-id-5 input.sk-hidden--visually {border: 0;clip: rect(1px 1px 1px 1px);clip: rect(1px, 1px, 1px, 1px);height: 1px;margin: -1px;overflow: hidden;padding: 0;position: absolute;width: 1px;}#sk-container-id-5 div.sk-estimator {font-family: monospace;background-color: #f0f8ff;border: 1px dotted black;border-radius: 0.25em;box-sizing: border-box;margin-bottom: 0.5em;}#sk-container-id-5 div.sk-estimator:hover {background-color: #d4ebff;}#sk-container-id-5 div.sk-parallel-item::after {content: \"\";width: 100%;border-bottom: 1px solid gray;flex-grow: 1;}#sk-container-id-5 div.sk-label:hover label.sk-toggleable__label {background-color: #d4ebff;}#sk-container-id-5 div.sk-serial::before {content: \"\";position: absolute;border-left: 1px solid gray;box-sizing: border-box;top: 0;bottom: 0;left: 50%;z-index: 0;}#sk-container-id-5 div.sk-serial {display: flex;flex-direction: column;align-items: center;background-color: white;padding-right: 0.2em;padding-left: 0.2em;position: relative;}#sk-container-id-5 div.sk-item {position: relative;z-index: 1;}#sk-container-id-5 div.sk-parallel {display: flex;align-items: stretch;justify-content: center;background-color: white;position: relative;}#sk-container-id-5 div.sk-item::before, #sk-container-id-5 div.sk-parallel-item::before {content: \"\";position: absolute;border-left: 1px solid gray;box-sizing: border-box;top: 0;bottom: 0;left: 50%;z-index: -1;}#sk-container-id-5 div.sk-parallel-item {display: flex;flex-direction: column;z-index: 1;position: relative;background-color: white;}#sk-container-id-5 div.sk-parallel-item:first-child::after {align-self: flex-end;width: 50%;}#sk-container-id-5 div.sk-parallel-item:last-child::after {align-self: flex-start;width: 50%;}#sk-container-id-5 div.sk-parallel-item:only-child::after {width: 0;}#sk-container-id-5 div.sk-dashed-wrapped {border: 1px dashed gray;margin: 0 0.4em 0.5em 0.4em;box-sizing: border-box;padding-bottom: 0.4em;background-color: white;}#sk-container-id-5 div.sk-label label {font-family: monospace;font-weight: bold;display: inline-block;line-height: 1.2em;}#sk-container-id-5 div.sk-label-container {text-align: center;}#sk-container-id-5 div.sk-container {/* jupyter's `normalize.less` sets `[hidden] { display: none; }` but bootstrap.min.css set `[hidden] { display: none !important; }` so we also need the `!important` here to be able to override the default hidden behavior on the sphinx rendered scikit-learn.org. See: https://github.com/scikit-learn/scikit-learn/issues/21755 */display: inline-block !important;position: relative;}#sk-container-id-5 div.sk-text-repr-fallback {display: none;}</style><div id=\"sk-container-id-5\" class=\"sk-top-container\"><div class=\"sk-text-repr-fallback\"><pre>SVC(probability=True)</pre><b>In a Jupyter environment, please rerun this cell to show the HTML representation or trust the notebook. <br />On GitHub, the HTML representation is unable to render, please try loading this page with nbviewer.org.</b></div><div class=\"sk-container\" hidden><div class=\"sk-item\"><div class=\"sk-estimator sk-toggleable\"><input class=\"sk-toggleable__control sk-hidden--visually\" id=\"sk-estimator-id-5\" type=\"checkbox\" checked><label for=\"sk-estimator-id-5\" class=\"sk-toggleable__label sk-toggleable__label-arrow\">SVC</label><div class=\"sk-toggleable__content\"><pre>SVC(probability=True)</pre></div></div></div></div></div>"
      ],
      "text/plain": [
       "SVC(probability=True)"
      ]
     },
     "execution_count": 119,
     "metadata": {},
     "output_type": "execute_result"
    }
   ],
   "source": [
    "print('Classifier Setting')\n",
    "model_svm = SVC(kernel=\"rbf\",probability=True)\n",
    "model_svm.fit(X_train_vsdc, y_train_vsdc)\n"
   ]
  },
  {
   "cell_type": "code",
   "execution_count": 120,
   "id": "216c4198",
   "metadata": {},
   "outputs": [],
   "source": [
    "y_pred_svm = model_svm.predict(X_test_asv)"
   ]
  },
  {
   "cell_type": "code",
   "execution_count": 121,
   "id": "21aaa36b",
   "metadata": {},
   "outputs": [
    {
     "name": "stdout",
     "output_type": "stream",
     "text": [
      "Computing Results\n",
      "\n",
      "Confusion Matrix: \n",
      " [[     0  18090]\n",
      " [     0 116640]]\n",
      "\n",
      "Confusion Matrix: \n",
      " [[     0  18090]\n",
      " [     0 116640]]\n",
      "classification Report\n"
     ]
    },
    {
     "name": "stderr",
     "output_type": "stream",
     "text": [
      "/home/a/awaiskhan/.conda/envs/deepspeak/lib/python3.9/site-packages/sklearn/metrics/_classification.py:1327: UndefinedMetricWarning: Precision and F-score are ill-defined and being set to 0.0 in labels with no predicted samples. Use `zero_division` parameter to control this behavior.\n",
      "  _warn_prf(average, modifier, msg_start, len(result))\n",
      "/home/a/awaiskhan/.conda/envs/deepspeak/lib/python3.9/site-packages/sklearn/metrics/_classification.py:1327: UndefinedMetricWarning: Precision and F-score are ill-defined and being set to 0.0 in labels with no predicted samples. Use `zero_division` parameter to control this behavior.\n",
      "  _warn_prf(average, modifier, msg_start, len(result))\n",
      "/home/a/awaiskhan/.conda/envs/deepspeak/lib/python3.9/site-packages/sklearn/metrics/_classification.py:1327: UndefinedMetricWarning: Precision and F-score are ill-defined and being set to 0.0 in labels with no predicted samples. Use `zero_division` parameter to control this behavior.\n",
      "  _warn_prf(average, modifier, msg_start, len(result))\n",
      "/home/a/awaiskhan/.conda/envs/deepspeak/lib/python3.9/site-packages/sklearn/metrics/_classification.py:1327: UndefinedMetricWarning: Precision and F-score are ill-defined and being set to 0.0 in labels with no predicted samples. Use `zero_division` parameter to control this behavior.\n",
      "  _warn_prf(average, modifier, msg_start, len(result))\n"
     ]
    },
    {
     "name": "stdout",
     "output_type": "stream",
     "text": [
      "              precision    recall  f1-score   support\n",
      "\n",
      "           0       0.00      0.00      0.00     18090\n",
      "           1       0.87      1.00      0.93    116640\n",
      "\n",
      "    accuracy                           0.87    134730\n",
      "   macro avg       0.43      0.50      0.46    134730\n",
      "weighted avg       0.75      0.87      0.80    134730\n",
      "\n",
      "classification Report END\n",
      "Hand-crafted Features:  APGDF\n",
      "Score Report Start\n",
      "EER: 0.0\n",
      "accuracy: 0.8657314629258517\n",
      "precision: [0.         0.86573146]\n",
      "recall: [0. 1.]\n",
      "fscore: [0.         0.92803437]\n",
      "support: [ 18090 116640]\n",
      "Score Report End\n"
     ]
    },
    {
     "data": {
      "image/png": "[encoded data removed]",
      "text/plain": [
       "<Figure size 432x288 with 2 Axes>"
      ]
     },
     "metadata": {},
     "output_type": "display_data"
    }
   ],
   "source": [
    "print('Computing Results')\n",
    "\n",
    "sns.set(font_scale=1.0)\n",
    "conf_mtx_nb_svm = metrics.confusion_matrix(y_test_asv, y_pred_svm)\n",
    "sns.heatmap(conf_mtx_nb_svm, annot=True, fmt='g')\n",
    "print('\\nConfusion Matrix: \\n', conf_mtx_nb_svm )\n",
    "\n",
    "sns.set(font_scale=1.0)\n",
    "conf_mtx_nb_svm = metrics.confusion_matrix(y_test_asv, y_pred_svm)\n",
    "#sns.heatmap(conf_mtx_nb_svm, annot=True, fmt='g')\n",
    "print('\\nConfusion Matrix: \\n', conf_mtx_nb_svm )\n",
    "\n",
    "\n",
    "print('classification Report')\n",
    "report=classification_report(y_test_asv, y_pred_svm)\n",
    "print(report)\n",
    "\n",
    "accuracy=accuracy_score(y_test_asv, y_pred_svm)\n",
    "precision, recall, fscore, support = score(y_test_asv, y_pred_svm)\n",
    "print('classification Report END')\n",
    "\n",
    "fpr, tpr, threshold = roc_curve(y_test_asv, y_pred_svm)\n",
    "fnr = 1 - tpr\n",
    "eer_threshold = threshold[np.nanargmin(np.absolute((fnr - fpr)))]\n",
    "EER = fpr[np.nanargmin(np.absolute((fnr - fpr)))]\n",
    "\n",
    "print('Hand-crafted Features: ',feature)\n",
    "print('Score Report Start')\n",
    "print('EER: {}'.format(EER))\n",
    "print('accuracy: {}'.format(accuracy))\n",
    "print('precision: {}'.format(precision))\n",
    "print('recall: {}'.format(recall))\n",
    "print('fscore: {}'.format(fscore))\n",
    "print('support: {}'.format(support))\n",
    "print('Score Report End')\n"
   ]
  },
  {
   "cell_type": "code",
   "execution_count": null,
   "id": "033885a3",
   "metadata": {},
   "outputs": [],
   "source": []
  },
  {
   "cell_type": "code",
   "execution_count": null,
   "id": "0bcab148",
   "metadata": {},
   "outputs": [],
   "source": []
  },
  {
   "cell_type": "code",
   "execution_count": null,
   "id": "e3e5f977",
   "metadata": {},
   "outputs": [],
   "source": []
  },
  {
   "cell_type": "code",
   "execution_count": null,
   "id": "c673e13a",
   "metadata": {},
   "outputs": [],
   "source": []
  },
  {
   "cell_type": "code",
   "execution_count": null,
   "id": "635fbb05",
   "metadata": {},
   "outputs": [],
   "source": []
  }
 ],
 "metadata": {
  "kernelspec": {
   "display_name": "Python 3 (ipykernel)",
   "language": "python",
   "name": "python3"
  },
  "language_info": {
   "codemirror_mode": {
    "name": "ipython",
    "version": 3
   },
   "file_extension": ".py",
   "mimetype": "text/x-python",
   "name": "python",
   "nbconvert_exporter": "python",
   "pygments_lexer": "ipython3",
   "version": "3.9.12"
  }
 },
 "nbformat": 4,
 "nbformat_minor": 5
}
